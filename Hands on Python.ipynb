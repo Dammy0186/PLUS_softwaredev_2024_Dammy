{
 "cells": [
  {
   "cell_type": "code",
   "execution_count": 1,
   "id": "464f3841",
   "metadata": {},
   "outputs": [],
   "source": [
    "import damilola"
   ]
  },
  {
   "cell_type": "code",
   "execution_count": 2,
   "id": "83d3d58e",
   "metadata": {},
   "outputs": [
    {
     "data": {
      "text/plain": [
       "'work'"
      ]
     },
     "execution_count": 2,
     "metadata": {},
     "output_type": "execute_result"
    }
   ],
   "source": [
    "damilola.variable"
   ]
  },
  {
   "cell_type": "code",
   "execution_count": 3,
   "id": "fd11539c",
   "metadata": {},
   "outputs": [
    {
     "name": "stdout",
     "output_type": "stream",
     "text": [
      "Alfred\n"
     ]
    }
   ],
   "source": [
    "damilola.damilola(\"Alfred\")"
   ]
  },
  {
   "cell_type": "code",
   "execution_count": 4,
   "id": "d5075553",
   "metadata": {},
   "outputs": [
    {
     "data": {
      "text/plain": [
       "'work'"
      ]
     },
     "execution_count": 4,
     "metadata": {},
     "output_type": "execute_result"
    }
   ],
   "source": [
    "damilola.variable"
   ]
  },
  {
   "cell_type": "code",
   "execution_count": null,
   "id": "f877d396",
   "metadata": {},
   "outputs": [],
   "source": []
  }
 ],
 "metadata": {
  "kernelspec": {
   "display_name": "Python 3 (ipykernel)",
   "language": "python",
   "name": "python3"
  },
  "language_info": {
   "codemirror_mode": {
    "name": "ipython",
    "version": 3
   },
   "file_extension": ".py",
   "mimetype": "text/x-python",
   "name": "python",
   "nbconvert_exporter": "python",
   "pygments_lexer": "ipython3",
   "version": "3.9.18"
  }
 },
 "nbformat": 4,
 "nbformat_minor": 5
}
