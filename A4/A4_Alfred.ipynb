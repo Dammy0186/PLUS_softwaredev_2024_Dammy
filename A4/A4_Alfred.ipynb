{
 "cells": [
  {
   "cell_type": "code",
   "execution_count": null,
   "id": "7e2175df-210a-4960-9f3f-605938a4ccd5",
   "metadata": {},
   "outputs": [],
   "source": [
    "# Assignment 4 - Modules, functions and imports. s1106621\n",
    "Damilola Alfred\n",
    "# Using Functions for Vegetation and Water Indices\n",
    "This notebook demonstrates how to use the functions from the `A4_Alfred.py` module to calculate NDVI, EVI, and NDWI.\n",
    "It leverage on numpy, Python libraries to perform different operations\n",
    "To start, lets import the necessary functions and libraries."
   ]
  },
  {
   "cell_type": "code",
   "execution_count": 1,
   "id": "29c802ed-4689-413b-967d-b8352085509d",
   "metadata": {},
   "outputs": [],
   "source": [
    "# import helps you get all the functions from the module\n",
    "import A4_Alfred"
   ]
  },
  {
   "cell_type": "code",
   "execution_count": null,
   "id": "0f8884de-8976-4436-bad4-868d227d2519",
   "metadata": {},
   "outputs": [],
   "source": [
    "I used the inbuilt python help() function to get help for the entire module"
   ]
  },
  {
   "cell_type": "code",
   "execution_count": 2,
   "id": "8907a2da-342b-4204-8885-2363898f6e6f",
   "metadata": {},
   "outputs": [
    {
     "name": "stdout",
     "output_type": "stream",
     "text": [
      "Help on module A4_Alfred:\n",
      "\n",
      "NAME\n",
      "    A4_Alfred\n",
      "\n",
      "DESCRIPTION\n",
      "    This script contains three functions to calculate various vegetation and water indices.\n",
      "    Three indices currently represented:\n",
      "    - Normalized Difference Vegetation Index (ndvi)\n",
      "    - Enhanced Vegetation Index (evi)\n",
      "    - Normalized Difference Water Index (ndwi)\n",
      "    \n",
      "    Example: ndvi(nir, red)\n",
      "        evi(nir, red, blue)\n",
      "        ndwi(nir, green)\n",
      "    \n",
      "    where,\n",
      "            red: red band of your dataset\n",
      "            nir: near infrared band of your dataset\n",
      "            blue: blue band of your dataset \n",
      "            green: green band of your dataset\n",
      "\n",
      "FUNCTIONS\n",
      "    evi(nir, red, blue, G=2.5, L=1, C1=6, C2=7.5)\n",
      "        Calculate the Enhanced Vegetation Index (EVI).\n",
      "        \n",
      "        EVI is calculated using the formula:\n",
      "        G * (NIR - RED) / (NIR + C1 * RED - C2 * BLUE + L)\n",
      "        \n",
      "        Args:\n",
      "            nir (np.array): Near Infrared band\n",
      "            red (np.array): Red band\n",
      "            blue (np.array): Blue band\n",
      "            G (float): Gain factor (default is 2.5)\n",
      "            L (float): Canopy background adjustment (default is 1)\n",
      "            C1 (float): Coefficient 1 for aerosol resistance term (default is 6)\n",
      "            C2 (float): Coefficient 2 for aerosol resistance term (default is 7.5)\n",
      "        \n",
      "        Returns:\n",
      "            np.array: EVI values\n",
      "    \n",
      "    ndvi(nir, red)\n",
      "        Calculate the Normalized Difference Vegetation Index (NDVI).\n",
      "        \n",
      "        NDVI is calculated using the formula:\n",
      "        (NIR - RED) / (NIR + RED)\n",
      "        \n",
      "        Args:\n",
      "            nir (np.array): Near Infrared band\n",
      "            red (np.array): Red band\n",
      "        \n",
      "        Returns:\n",
      "            np.array: NDVI values\n",
      "    \n",
      "    ndwi(nir, green)\n",
      "        Calculate the Normalized Difference Water Index (NDWI).\n",
      "        \n",
      "        NDWI is calculated using the formula:\n",
      "        (GREEN - NIR) / (GREEN + NIR)\n",
      "        \n",
      "        Args:\n",
      "            nir (np.array): Near Infrared band\n",
      "            green (np.array): Green band\n",
      "        \n",
      "        Returns:\n",
      "            np.array: NDWI values\n",
      "\n",
      "FILE\n",
      "    c:\\users\\hp probook\\a4_alfred.py\n",
      "\n",
      "\n"
     ]
    }
   ],
   "source": [
    "help(A4_Alfred)"
   ]
  },
  {
   "cell_type": "code",
   "execution_count": 3,
   "id": "cd1be32b-b2c9-425c-8f92-3f613a248bbb",
   "metadata": {},
   "outputs": [
    {
     "name": "stdout",
     "output_type": "stream",
     "text": [
      "Help on function ndvi in module A4_Alfred:\n",
      "\n",
      "ndvi(nir, red)\n",
      "    Calculate the Normalized Difference Vegetation Index (NDVI).\n",
      "    \n",
      "    NDVI is calculated using the formula:\n",
      "    (NIR - RED) / (NIR + RED)\n",
      "    \n",
      "    Args:\n",
      "        nir (np.array): Near Infrared band\n",
      "        red (np.array): Red band\n",
      "    \n",
      "    Returns:\n",
      "        np.array: NDVI values\n",
      "\n"
     ]
    }
   ],
   "source": [
    "help(A4_Alfred.ndvi)"
   ]
  },
  {
   "cell_type": "code",
   "execution_count": 4,
   "id": "15f6d243-86f2-4544-adf6-d0e1350afba0",
   "metadata": {},
   "outputs": [
    {
     "name": "stdout",
     "output_type": "stream",
     "text": [
      "Help on function evi in module A4_Alfred:\n",
      "\n",
      "evi(nir, red, blue, G=2.5, L=1, C1=6, C2=7.5)\n",
      "    Calculate the Enhanced Vegetation Index (EVI).\n",
      "    \n",
      "    EVI is calculated using the formula:\n",
      "    G * (NIR - RED) / (NIR + C1 * RED - C2 * BLUE + L)\n",
      "    \n",
      "    Args:\n",
      "        nir (np.array): Near Infrared band\n",
      "        red (np.array): Red band\n",
      "        blue (np.array): Blue band\n",
      "        G (float): Gain factor (default is 2.5)\n",
      "        L (float): Canopy background adjustment (default is 1)\n",
      "        C1 (float): Coefficient 1 for aerosol resistance term (default is 6)\n",
      "        C2 (float): Coefficient 2 for aerosol resistance term (default is 7.5)\n",
      "    \n",
      "    Returns:\n",
      "        np.array: EVI values\n",
      "\n"
     ]
    }
   ],
   "source": [
    "help(A4_Alfred.evi)"
   ]
  },
  {
   "cell_type": "code",
   "execution_count": 5,
   "id": "52a038f1-b35c-420c-b9d3-7004a74921ef",
   "metadata": {},
   "outputs": [
    {
     "name": "stdout",
     "output_type": "stream",
     "text": [
      "Help on function ndwi in module A4_Alfred:\n",
      "\n",
      "ndwi(nir, green)\n",
      "    Calculate the Normalized Difference Water Index (NDWI).\n",
      "    \n",
      "    NDWI is calculated using the formula:\n",
      "    (GREEN - NIR) / (GREEN + NIR)\n",
      "    \n",
      "    Args:\n",
      "        nir (np.array): Near Infrared band\n",
      "        green (np.array): Green band\n",
      "    \n",
      "    Returns:\n",
      "        np.array: NDWI values\n",
      "\n"
     ]
    }
   ],
   "source": [
    "help(A4_Alfred.ndwi)"
   ]
  },
  {
   "cell_type": "code",
   "execution_count": null,
   "id": "f2394349-77c2-41ec-b42f-b812d3f72be8",
   "metadata": {},
   "outputs": [],
   "source": [
    "Now I called each A4 function and input parameters. "
   ]
  },
  {
   "cell_type": "code",
   "execution_count": 10,
   "id": "832424d5-745f-4aa9-9023-0453e24bfa25",
   "metadata": {},
   "outputs": [],
   "source": [
    "from A4_Alfred import ndvi, evi, ndwi\n",
    "import numpy as np"
   ]
  },
  {
   "cell_type": "code",
   "execution_count": 11,
   "id": "0499d59e-47f6-4769-a355-635ae4b11fb3",
   "metadata": {},
   "outputs": [],
   "source": [
    "nir = np.array([0.6, 0.7, 0.8, 0.9])\n",
    "red = np.array([0.1, 0.2, 0.3, 0.4])\n",
    "blue = np.array([0.05, 0.1, 0.05, 0.2])\n",
    "green = np.array([0.4, 0.5, 0.6, 0.7])"
   ]
  },
  {
   "cell_type": "code",
   "execution_count": 12,
   "id": "ad7f28c3-bb08-4fc5-9f3a-e57d139c8609",
   "metadata": {},
   "outputs": [
    {
     "name": "stdout",
     "output_type": "stream",
     "text": [
      "NDVI values: [0.71428571 0.55555556 0.45454545 0.38461538]\n"
     ]
    }
   ],
   "source": [
    "ndvi_values = ndvi(nir, red)\n",
    "print(\"NDVI values:\", ndvi_values)"
   ]
  },
  {
   "cell_type": "code",
   "execution_count": 13,
   "id": "7c193075-aa57-4204-9bd5-1f70736c918c",
   "metadata": {},
   "outputs": [
    {
     "name": "stdout",
     "output_type": "stream",
     "text": [
      "EVI values: [0.68493151 0.58139535 0.3875969  0.44642857]\n"
     ]
    }
   ],
   "source": [
    "evi_values = evi(nir, red, blue)\n",
    "print(\"EVI values:\", evi_values)"
   ]
  },
  {
   "cell_type": "code",
   "execution_count": 14,
   "id": "ddf1e1c4-bd0d-4b5f-8a08-074ae7b1e572",
   "metadata": {},
   "outputs": [
    {
     "name": "stdout",
     "output_type": "stream",
     "text": [
      "NDWI values: [-0.2        -0.16666667 -0.14285714 -0.125     ]\n"
     ]
    }
   ],
   "source": [
    "ndwi_values = ndwi(nir, green)\n",
    "print(\"NDWI values:\", ndwi_values)"
   ]
  },
  {
   "cell_type": "code",
   "execution_count": null,
   "id": "ae7e47b9-2d4d-4457-bdf8-28a4a68c61b7",
   "metadata": {},
   "outputs": [],
   "source": [
    "The above code calculates these indices using sample data and prints the results."
   ]
  }
 ],
 "metadata": {
  "kernelspec": {
   "display_name": "Python 3 (ipykernel)",
   "language": "python",
   "name": "python3"
  },
  "language_info": {
   "codemirror_mode": {
    "name": "ipython",
    "version": 3
   },
   "file_extension": ".py",
   "mimetype": "text/x-python",
   "name": "python",
   "nbconvert_exporter": "python",
   "pygments_lexer": "ipython3",
   "version": "3.11.7"
  }
 },
 "nbformat": 4,
 "nbformat_minor": 5
}
